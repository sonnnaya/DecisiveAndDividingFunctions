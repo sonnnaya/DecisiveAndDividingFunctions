{
  "nbformat": 4,
  "nbformat_minor": 0,
  "metadata": {
    "colab": {
      "name": "DecisiveAndDividingFunctions.ipynb",
      "provenance": [],
      "collapsed_sections": [],
      "authorship_tag": "ABX9TyOA5ikFRZWQJSVByWZvAgUx",
      "include_colab_link": true
    },
    "kernelspec": {
      "name": "python3",
      "display_name": "Python 3"
    }
  },
  "cells": [
    {
      "cell_type": "markdown",
      "metadata": {
        "id": "view-in-github",
        "colab_type": "text"
      },
      "source": [
        "<a href=\"https://colab.research.google.com/github/sonnnaya/DecisiveAndDividingFunctions/blob/main/DecisiveAndDividingFunctions.ipynb\" target=\"_parent\"><img src=\"https://colab.research.google.com/assets/colab-badge.svg\" alt=\"Open In Colab\"/></a>"
      ]
    },
    {
      "cell_type": "markdown",
      "metadata": {
        "id": "vDE3E5688FG5"
      },
      "source": [
        "# Classification by using decisive functions and diving hypersurfaces\r\n",
        "### Introduction\r\n",
        "---\r\n",
        "Let the input set of images represented by $n$-dimensional vectors be given:\r\n",
        "$$\r\n",
        "X=\\{\\overline{x}_{1}, \\overline{x}_{2},...,\\overline{x}_{N}\\},\r\n",
        "$$\r\n",
        "where $\\overline{x}_{i}=[x_{1},x_{2},...,x_{n}]^{T}$\r\n",
        "\r\n",
        "And the classes $\\omega_{1},\\omega_{2},...,\\omega_{m}$ described by the relevant standards:\r\n",
        "$$\\overline{z}_{1},\\overline{z}_{2},...,\\overline{z}_{m}$$\r\n",
        "\r\n",
        "Read the topic [Classification by minimum distance](https://github.com/sonnnaya/MinimumDistanceClassification/blob/master/MinimumDistanceClassification.ipynb) for mor info.\r\n",
        "\r\n",
        "---\r\n",
        "\r\n",
        "The problem of classification can be considered as construction of the borders that divide the set of $M$ classes of images, based on an training set of these images-vectors.\r\n",
        "\r\n",
        "These boundaries are called *divinging hypersurfaces* (or functions). They can be defined by decisive functions. These functions are also called *discriminant* and are scalar and unambiguous functions of the image $\\overline{x}$.\r\n"
      ]
    },
    {
      "cell_type": "markdown",
      "metadata": {
        "id": "2ULsPd1990u-"
      },
      "source": [
        "## Desicive function\r\n",
        "Desicive function is a function of the image (vector) argument, which determines the belonging of the incoming image to a certain class. So, the decisive function is related to the class.\r\n",
        "\r\n",
        "### Definition\r\n",
        "The general form of the linear decisive function is defined by the following expression:\r\n",
        "$$\r\n",
        "d_{i}(\\overline{x})=w_{i1}x_{1}+w_{i2}x_{2}+...+w_{in}x_{n},\r\n",
        "$$\r\n",
        "where:\r\n",
        "\r\n",
        "$\\overline{x}=[x_{1},x_{2},...,x_{n}]^{T}$\r\n",
        "\r\n",
        "$\\overline{w_{i}}=[w_{i1},w_{i2},...,w_{in}]^{T}$ - weights"
      ]
    },
    {
      "cell_type": "markdown",
      "metadata": {
        "id": "BxCMhl-2-OIp"
      },
      "source": [
        "### Finding a function by the minimum distance similarity measure\r\n",
        "According to the topic [Classification by minimum distance](https://github.com/sonnnaya/MinimumDistanceClassification/blob/master/MinimumDistanceClassification.ipynb) this similarity measure is described by the equation:\r\n",
        "$$\r\n",
        "D_{i}=|\\overline{x}-\\overline{z}_{i}|=\\sqrt{(\\overline{x}-\\overline{z}_{i})^{T}*(\\overline{x}-\\overline{z}_{i})}=\\sqrt{(\\overline{x}-\\overline{z}_{i})^{T}*(\\overline{x}-\\overline{z}_{i})}=\\sqrt{\\sum_{j=1}^{n} (x_{j}-z_{ij})}\r\n",
        "$$\r\n",
        "Let's square both sides of the equation:\r\n",
        "$$\r\n",
        "D_{i}^{2}=|\\overline{x}-\\overline{z}_{i}|^{2}=(\\overline{x}-\\overline{z}_{i})^{T}*(\\overline{x}-\\overline{z}_{i})=\\overline{x}^{T}\\overline{x}-2\\overline{x}^{T}\\overline{z}_{i}+\\overline{z}_{i}^{T}\\overline{z}_{i}=\\\\\r\n",
        "=\\overline{x}^{T}\\overline{x}-2(\\overline{x}^{T}\\overline{z}_{i}+\\frac{1}{2}\\overline{z}_{i}^{T}\\overline{z}_{i})\r\n",
        "$$\r\n",
        "So, we will get a minimum of squared distance $D_{i}^{2}$ by maximizing second part of the equation\r\n",
        "$\r\n",
        "(\\overline{x}^{T}\\overline{z}_{i}+\\frac{1}{2}\\overline{z}_{i}^{T}\\overline{z}_{i})\r\n",
        "$,\r\n",
        "because $\\overline{x}^{T}\\overline{x}$ doesn't depend on $i$ value.\r\n",
        "\r\n",
        "Thus, we can define linear desicive function as:\r\n",
        "$$\r\n",
        "d_{i}(\\overline{x})=\\overline{x}^{T}\\overline{z}_{i}+\\frac{1}{2}\\overline{z}_{i}^{T}\\overline{z}_{i}\r\n",
        "$$"
      ]
    },
    {
      "cell_type": "code",
      "metadata": {
        "id": "szRcRasJEsat"
      },
      "source": [
        "from typing import List, Any\r\n",
        "import numpy as np\r\n",
        "\r\n",
        "\r\n",
        "class Cluster:\r\n",
        "    def __init__(self, standards: List[list]):\r\n",
        "        self.standards: List[np.ndarray] = [np.array(each) for each in standards]\r\n",
        "        self.images: List[np.ndarray] = []\r\n",
        "\r\n",
        "    def get_distance(self, image: list) -> float:\r\n",
        "        to_all_standards = [np.linalg.norm(np.array(image) - each) for each in self.standards]\r\n",
        "        return min(to_all_standards)\r\n",
        "\r\n",
        "    def add_image(self, image: list) -> None:\r\n",
        "        self.images.append(np.array(image))\r\n",
        "\r\n",
        "    def decisive_function(self, image: list) -> Any:\r\n",
        "        standard = np.mean(self.standards, axis=0)\r\n",
        "        return np.sum((np.sum(np.array(image).transpose() * standard) - 0.5 * np.sum(standard.transpose() * standard)))\r\n"
      ],
      "execution_count": null,
      "outputs": []
    },
    {
      "cell_type": "markdown",
      "metadata": {
        "id": "bpPgCN7jE3wV"
      },
      "source": [
        "### Using decisive function for classification\r\n",
        "The classification rule by using decisive function can be simply described in this way:\r\n",
        "\r\n",
        "Image $\\overline{x}$ belongs to class $\\omega_{i}$ if:\r\n",
        "$$\r\n",
        "d_{i}(\\overline{x})=max(d_{1}(\\overline{x}),d_{2}(\\overline{x}),...d_{j}(\\overline{x})...,d_{M}(\\overline{x})),\\ \\forall i \\neq j ,\\ \\  j=\\overline{1,M}$$ "
      ]
    },
    {
      "cell_type": "code",
      "metadata": {
        "id": "xltyUq3HGFVi"
      },
      "source": [
        "def get_clustered_decisive(image_list: List[list], clusters: List[Cluster]) -> List[Cluster]:\r\n",
        "    classificated = clusters[:]\r\n",
        "\r\n",
        "    for image in image_list:\r\n",
        "        values = [cluster.decisive_function(image) for cluster in classificated]\r\n",
        "        maximum = max(values)\r\n",
        "        index = values.index(maximum)\r\n",
        "        classificated[index].add_image(image)\r\n",
        "\r\n",
        "    return classificated"
      ],
      "execution_count": null,
      "outputs": []
    },
    {
      "cell_type": "markdown",
      "metadata": {
        "id": "KkraW-Dn9nWw"
      },
      "source": [
        "## Dividing function\r\n",
        "### Definition\r\n",
        "The boundary between classes $\\omega_{𝑖}$ and $\\omega_{𝑗}$ is determined by those values of $\\overline{x}$ at which the equality $𝑑_{𝑖}(\\overline{x}) = 𝑑_{𝑗} (\\overline{x})$ takes place (or $𝑑_{𝑖}(\\overline{x}) - 𝑑_{𝑗} (\\overline{x})=0$). So, the dividing function can be simply described by this formula:\r\n",
        "$$d_{ij}(\\overline{x})=𝑑_{𝑖}(\\overline{x}) - 𝑑_{𝑗} (\\overline{x})\\ \\forall i \\neq j$$\r\n",
        "\r\n",
        "It is also true that:\r\n",
        "$$d_{ij}(\\overline{x})=-d_{ji}(\\overline{x})$$\r\n",
        "\r\n",
        "Therefore, this function describes the equation of a straight line for 2-dimensional space, or the equation of a plane for 3-dimensional space. \r\n",
        "So, in general, it describes a hyperspace equation that separates grouped sets of n-dimensional vectors (classes) in n-dimensional space respectively.\r\n",
        "\r\n",
        "Note that these functions are defined for each pair of classes, so for $M$ classes it is necessary to find $\\frac{M(M-1)}{2}$ dividing functions."
      ]
    },
    {
      "cell_type": "markdown",
      "metadata": {
        "id": "z7_6FnBISP4D"
      },
      "source": [
        "\r\n",
        "\r\n",
        "---\r\n",
        "\r\n",
        "\r\n",
        "\r\n",
        "\r\n",
        "> *Note that this approach only works for linearly separated classes. Otherwise, the image classification may lead a non-decision area.*\r\n",
        "\r\n",
        "\r\n",
        "\r\n",
        "\r\n",
        "---\r\n",
        "\r\n"
      ]
    },
    {
      "cell_type": "code",
      "metadata": {
        "id": "iKwFzsj4GgLT"
      },
      "source": [
        "from typing import Callable\r\n",
        "\r\n",
        "\r\n",
        "class DividingFunction:\r\n",
        "    def __init__(self, cluster1: Cluster, cluster2: Cluster):\r\n",
        "        self.cluster1 = cluster1\r\n",
        "        self.cluster2 = cluster2\r\n",
        "        self.function: Callable[[list], float] = DividingFunction.get_function(cluster1, cluster2)\r\n",
        "\r\n",
        "    def __call__(self, image: list) -> float:\r\n",
        "        return self.function(image)\r\n",
        "\r\n",
        "    @staticmethod\r\n",
        "    def get_function(cluster1: Cluster, cluster2: Cluster) -> Callable[[list], float]:\r\n",
        "        def dividing(image: list) -> float:\r\n",
        "            return cluster1.decisive_function(image) - cluster2.decisive_function(image)\r\n",
        "\r\n",
        "        return dividing\r\n"
      ],
      "execution_count": null,
      "outputs": []
    },
    {
      "cell_type": "markdown",
      "metadata": {
        "id": "4gm392x-GhrA"
      },
      "source": [
        "### Using dividing function for classification\r\n",
        "The classification rule by using dividing function can be simply described in this way:\r\n",
        "\r\n",
        "Image $\\overline{x}$ belongs to class $\\omega_{i}$ if:\r\n",
        "$$\r\n",
        "d_{ij}(\\overline{x})=max(d_{12}(\\overline{x}),d_{13}(\\overline{x}),...d_{ij}(\\overline{x})...,d_{MM-1}(\\overline{x})),\\ \\forall i \\neq j ,\\ \\  i,j=\\overline{1,M}$$ "
      ]
    },
    {
      "cell_type": "code",
      "metadata": {
        "id": "clQmai0rJd1L"
      },
      "source": [
        "def get_clustered_dividing(images: List[list], clusters: List[Cluster]) -> List[Cluster]:\r\n",
        "    classificated = clusters[:]\r\n",
        "    length = len(classificated)\r\n",
        "    dividings = [DividingFunction(classificated[i], classificated[j])\r\n",
        "                 for i in range(length)\r\n",
        "                 for j in range(length)\r\n",
        "                 if i != j]\r\n",
        "\r\n",
        "    for image in images:\r\n",
        "        dividing_values = list(map(lambda dividing: dividing(image), dividings))\r\n",
        "        maximum = max(dividing_values)\r\n",
        "        index = dividing_values.index(maximum)\r\n",
        "\r\n",
        "        dividings[index].cluster1.add_image(image)\r\n",
        "\r\n",
        "    return classificated"
      ],
      "execution_count": null,
      "outputs": []
    },
    {
      "cell_type": "markdown",
      "metadata": {
        "id": "iqSA3e3wJnAj"
      },
      "source": [
        "# Testing"
      ]
    },
    {
      "cell_type": "code",
      "metadata": {
        "colab": {
          "resources": {
            "http://localhost:8080/nbextensions/google.colab/files.js": {
              "data": "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",
              "ok": true,
              "headers": [
                [
                  "content-type",
                  "application/javascript"
                ]
              ],
              "status": 200,
              "status_text": ""
            }
          },
          "base_uri": "https://localhost:8080/",
          "height": 73
        },
        "id": "DLQN6OeZJpWd",
        "outputId": "62d5fea1-0a05-4d08-85e3-7c6e9151b8a3"
      },
      "source": [
        "from google.colab import files \r\n",
        "\r\n",
        "  \r\n",
        "uploaded = files.upload()"
      ],
      "execution_count": null,
      "outputs": [
        {
          "output_type": "display_data",
          "data": {
            "text/html": [
              "\n",
              "     <input type=\"file\" id=\"files-d30351ac-c32c-48a0-9920-612e52be041c\" name=\"files[]\" multiple disabled\n",
              "        style=\"border:none\" />\n",
              "     <output id=\"result-d30351ac-c32c-48a0-9920-612e52be041c\">\n",
              "      Upload widget is only available when the cell has been executed in the\n",
              "      current browser session. Please rerun this cell to enable.\n",
              "      </output>\n",
              "      <script src=\"/nbextensions/google.colab/files.js\"></script> "
            ],
            "text/plain": [
              "<IPython.core.display.HTML object>"
            ]
          },
          "metadata": {
            "tags": []
          }
        },
        {
          "output_type": "stream",
          "text": [
            "Saving data_test.csv to data_test.csv\n"
          ],
          "name": "stdout"
        }
      ]
    },
    {
      "cell_type": "markdown",
      "metadata": {
        "id": "-hGcbHNGmiId"
      },
      "source": [
        "## Classification by decisive function"
      ]
    },
    {
      "cell_type": "code",
      "metadata": {
        "colab": {
          "base_uri": "https://localhost:8080/"
        },
        "id": "mwTGkHO2jPmT",
        "outputId": "90ac52bd-92e6-4d3c-850f-1b2c161ee418"
      },
      "source": [
        "from numpy import genfromtxt\r\n",
        "\r\n",
        "images = genfromtxt('data_test.csv', delimiter=',')\r\n",
        "clusters = [Cluster([[0.52, 5.7]]), Cluster([[-7.72, 1.06]]),\r\n",
        "            Cluster([[5.3, -2.61]]), Cluster([[-1.81, -6.34]])]\r\n",
        "\r\n",
        "classificated = get_clustered_decisive(images, clusters)\r\n",
        "\r\n",
        "for i, each in enumerate(classificated):\r\n",
        "    print(f\"Class {str(i + 1)}:\")\r\n",
        "    for image in each.images:\r\n",
        "        print(list(image), end=', ')\r\n",
        "    print()\r\n"
      ],
      "execution_count": null,
      "outputs": [
        {
          "output_type": "stream",
          "text": [
            "Class 1:\n",
            "[0.52, 5.7], [1.68, 5.97], [1.5, 8.2], [-1.19, 7.64], [1.59, 3.7], [-0.58, 4.73], [0.56, 9.33], \n",
            "Class 2:\n",
            "[-7.72, 1.06], [-7.03, 0.36], [-6.69, 2.33], [-8.26, -1.7], [-8.12, -3.31], [-5.79, -2.7], [-4.7, 0.09], \n",
            "Class 3:\n",
            "[5.3, -2.61], [3.71, -2.46], [6.38, 1.0], [3.63, 0.82], [6.44, -2.58], [5.66, 0.73], \n",
            "Class 4:\n",
            "[-1.81, -6.34], [0.72, -7.0], [0.78, -4.55], [-0.83, -4.4], [-0.49, -7.97], [-1.72, -8.46], [-1.45, -3.73], [1.54, -5.91], \n"
          ],
          "name": "stdout"
        }
      ]
    },
    {
      "cell_type": "markdown",
      "metadata": {
        "id": "eSlvC0Yqm4GE"
      },
      "source": [
        "## Visualization of classification results"
      ]
    },
    {
      "cell_type": "code",
      "metadata": {
        "colab": {
          "base_uri": "https://localhost:8080/",
          "height": 267
        },
        "id": "7LQIVUwnjXpK",
        "outputId": "a07a524b-9032-4aab-9fcb-3e0294abc5ce"
      },
      "source": [
        "import matplotlib.pyplot as plt\r\n",
        "\r\n",
        "\r\n",
        "image_clusters = [cluster.images for cluster in classificated]\r\n",
        "\r\n",
        "x_es = [[image[0] for image in images] for images in image_clusters]\r\n",
        "y_es = [[image[1] for image in images] for images in image_clusters]\r\n",
        "\r\n",
        "for i in range(len(x_es)):\r\n",
        "    plt.scatter(x_es[i], y_es[i])\r\n",
        "  \r\n",
        "plt.show()\r\n"
      ],
      "execution_count": null,
      "outputs": [
        {
          "output_type": "display_data",
          "data": {
            "image/png": "[encoded data removed]",
            "text/plain": [
              "<Figure size 432x288 with 1 Axes>"
            ]
          },
          "metadata": {
            "tags": [],
            "needs_background": "light"
          }
        }
      ]
    },
    {
      "cell_type": "markdown",
      "metadata": {
        "id": "cJJulolknR8p"
      },
      "source": [
        "## Classification by dividing function"
      ]
    },
    {
      "cell_type": "code",
      "metadata": {
        "colab": {
          "base_uri": "https://localhost:8080/"
        },
        "id": "3EBXXXiAnXMj",
        "outputId": "ebae6cf7-91e7-4ba8-dc0c-b85975ad9332"
      },
      "source": [
        "clusters = [Cluster([[0.52, 5.7]]), Cluster([[-7.72, 1.06]]),\r\n",
        "            Cluster([[5.3, -2.61]]), Cluster([[-1.81, -6.34]])]\r\n",
        "\r\n",
        "classificated = get_clustered_dividing(images, clusters)\r\n",
        "\r\n",
        "for i, each in enumerate(classificated):\r\n",
        "    print(f\"Class {str(i + 1)}:\")\r\n",
        "    for image in each.images:\r\n",
        "        print(list(image), end=', ')\r\n",
        "    print()\r\n"
      ],
      "execution_count": null,
      "outputs": [
        {
          "output_type": "stream",
          "text": [
            "Class 1:\n",
            "[0.52, 5.7], [1.68, 5.97], [1.5, 8.2], [-1.19, 7.64], [1.59, 3.7], [-0.58, 4.73], [0.56, 9.33], \n",
            "Class 2:\n",
            "[-7.72, 1.06], [-7.03, 0.36], [-6.69, 2.33], [-8.26, -1.7], [-8.12, -3.31], [-5.79, -2.7], [-4.7, 0.09], \n",
            "Class 3:\n",
            "[5.3, -2.61], [3.71, -2.46], [6.38, 1.0], [3.63, 0.82], [6.44, -2.58], [5.66, 0.73], \n",
            "Class 4:\n",
            "[-1.81, -6.34], [0.72, -7.0], [0.78, -4.55], [-0.83, -4.4], [-0.49, -7.97], [-1.72, -8.46], [-1.45, -3.73], [1.54, -5.91], \n"
          ],
          "name": "stdout"
        }
      ]
    },
    {
      "cell_type": "markdown",
      "metadata": {
        "id": "H4tPOkJ1nm1F"
      },
      "source": [
        "## Visualization of classification results\r\n",
        "As it was discussed above, dividing function are the hyperspaces separating each pair of classes. For 2-dimensional images divinings functions describe a line equation.\r\n",
        "\r\n",
        "Let's express $x_{2}$ in terms of $x_{1}$ from the dividing function equation:\r\n",
        "$$\r\n",
        "d_{ij}(\\overline{x})=𝑑_{i}(\\overline{x}) - 𝑑_{j}(\\overline{x})\\\\\r\n",
        "\\overline{x}^{T}\\overline{z}_{i}+\\frac{1}{2}\\overline{z}_{i}^{T}\\overline{z}_{i}-\\overline{x}^{T}\\overline{z}_{j}+\\frac{1}{2}\\overline{z}_{j}^{T}\\overline{z}_{j}\\\\\r\n",
        "x_{1}z_{i1}+x_{2}z_{i2}-\\frac{1}{2}\\overline{z}_{i}^{T}\\overline{z}_{i}-x_{1}z_{j1}-x_{2}z_{j2}+\\frac{1}{2}\\overline{z}_{j}^{T}\\overline{z}_{j}\\\\\r\n",
        "x_{2}(z_{i2}-z_{j2})=\\frac{1}{2}(\\overline{z}_{i}^{T}\\overline{z}_{i}-\\overline{z}_{j}^{T}\\overline{z}_{j})+x_{1}(z_{j1}-z_{i1})\\\\\r\n",
        "$$\r\n",
        "So, finally we got:\r\n",
        "$$\r\n",
        "x_{2}=\\frac{\\frac{1}{2}(\\overline{z}_{i}^{T}\\overline{z}_{i}-\\overline{z}_{j}^{T}\\overline{z}_{j})+x_{1}(z_{j1}-z_{i1})}{z_{i2}-z_{j2}}\r\n",
        "$$\r\n",
        "By using this equation we can draw boundaries between formed classes."
      ]
    },
    {
      "cell_type": "code",
      "metadata": {
        "colab": {
          "base_uri": "https://localhost:8080/",
          "height": 281
        },
        "id": "a0VcYrwroqGr",
        "outputId": "f384369c-315d-4fc2-c56c-345aa3ac285e"
      },
      "source": [
        "def separator(x: float, cluster1: Cluster, cluster2: Cluster) -> float:\r\n",
        "    s1 = np.mean(cluster1.standards, axis=0)\r\n",
        "    s2 = np.mean(cluster2.standards, axis=0)\r\n",
        "\r\n",
        "    return (0.5 * (np.dot(s1.T, s1) - np.dot(s2.T, s2)) + x * (s2[0] - s1[0])) / (s1[1] - s2[[1]])\r\n",
        "\r\n",
        "\r\n",
        "image_clusters = [cluster.images for cluster in classificated]\r\n",
        "\r\n",
        "x_es = [[image[0] for image in images] for images in image_clusters]\r\n",
        "y_es = [[image[1] for image in images] for images in image_clusters]\r\n",
        "\r\n",
        "x_separators = [x for x in np.arange(-10, 10, 1)]\r\n",
        "y_separators = [[separator(x, classificated[i], classificated[j]) for x in np.arange(-10, 10, 1)]\r\n",
        "                for i in range(len(classificated))\r\n",
        "                for j in range(len(classificated))\r\n",
        "                if j > i]\r\n",
        "\r\n",
        "fig, axes = plt.subplots(nrows=2, ncols=3)\r\n",
        "\r\n",
        "axes[0, 0].set(title='Classes 1 and 2')\r\n",
        "axes[0, 1].set(title='Classes 1 and 3')\r\n",
        "axes[0, 2].set(title='Classes 1 and 4')\r\n",
        "axes[1, 0].set(title='Classes 2 and 3')\r\n",
        "axes[1, 1].set(title='Classes 2 and 4')\r\n",
        "axes[1, 2].set(title='Classes 3 and 4')\r\n",
        "\r\n",
        "for i, ax in enumerate(axes.flat):\r\n",
        "    for j in range(len(x_es)):\r\n",
        "        ax.scatter(x_es[j], y_es[j])\r\n",
        "\r\n",
        "    ax.plot(x_separators, y_separators[i])\r\n",
        "    ax.axis([-10, 10, -10, 10])\r\n",
        "\r\n",
        "\r\n",
        "plt.show()"
      ],
      "execution_count": null,
      "outputs": [
        {
          "output_type": "display_data",
          "data": {
            "image/png": "[encoded data removed]",
            "text/plain": [
              "<Figure size 432x288 with 6 Axes>"
            ]
          },
          "metadata": {
            "tags": [],
            "needs_background": "light"
          }
        }
      ]
    },
    {
      "cell_type": "markdown",
      "metadata": {
        "id": "cyW78BbDs5fP"
      },
      "source": [
        "Another view of all dividing lines in one plot:"
      ]
    },
    {
      "cell_type": "code",
      "metadata": {
        "colab": {
          "base_uri": "https://localhost:8080/",
          "height": 269
        },
        "id": "OvbNcmectK5S",
        "outputId": "078bcebf-74fb-43b0-97f4-2f642e7bd62b"
      },
      "source": [
        "for i in range(len(x_es)):\r\n",
        "    plt.scatter(x_es[i], y_es[i])\r\n",
        "\r\n",
        "for y in y_separators:\r\n",
        "    plt.plot(x_separators, y)\r\n",
        "\r\n",
        "plt.axis([-10, 10, -10, 10])\r\n",
        "plt.show()"
      ],
      "execution_count": null,
      "outputs": [
        {
          "output_type": "display_data",
          "data": {
            "image/png": "[encoded data removed]",
            "text/plain": [
              "<Figure size 432x288 with 1 Axes>"
            ]
          },
          "metadata": {
            "tags": [],
            "needs_background": "light"
          }
        }
      ]
    }
  ]
}